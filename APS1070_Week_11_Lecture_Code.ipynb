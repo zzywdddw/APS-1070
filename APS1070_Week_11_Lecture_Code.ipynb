{
 "cells": [
  {
   "cell_type": "markdown",
   "metadata": {
    "id": "MD1j2BeWPkgt"
   },
   "source": [
    "# APS1070 Lecture Code"
   ]
  },
  {
   "cell_type": "markdown",
   "metadata": {
    "id": "DpZGEeqdhWS7"
   },
   "source": [
    "## Part 1: 2-layer neural network without PyTorch\n",
    "\n",
    "In this example we will implement a 2-layer neural network from scratch. This network is using a squared error loss for a multiclass classification problem, ideally we should be using a softmax loss function."
   ]
  },
  {
   "cell_type": "code",
   "execution_count": 1,
   "metadata": {
    "colab": {
     "base_uri": "https://localhost:8080/"
    },
    "executionInfo": {
     "elapsed": 19870,
     "status": "ok",
     "timestamp": 1701187298929,
     "user": {
      "displayName": "Samin Aref",
      "userId": "14087203804246952491"
     },
     "user_tz": 300
    },
    "id": "5OtN_XQFhjYp",
    "outputId": "ceb4d963-53c8-44cf-de61-15848fdf121f"
   },
   "outputs": [
    {
     "name": "stdout",
     "output_type": "stream",
     "text": [
      "Collecting wget\n",
      "  Downloading wget-3.2.zip (10 kB)\n",
      "  Preparing metadata (setup.py) ... \u001b[?25l\u001b[?25hdone\n",
      "Building wheels for collected packages: wget\n",
      "  Building wheel for wget (setup.py) ... \u001b[?25l\u001b[?25hdone\n",
      "  Created wheel for wget: filename=wget-3.2-py3-none-any.whl size=9657 sha256=7ff9e1c674dca35b3d9602360ddb211e967dde9efa767ce3791d666d2c0b1feb\n",
      "  Stored in directory: /root/.cache/pip/wheels/8b/f1/7f/5c94f0a7a505ca1c81cd1d9208ae2064675d97582078e6c769\n",
      "Successfully built wget\n",
      "Installing collected packages: wget\n",
      "Successfully installed wget-3.2\n"
     ]
    }
   ],
   "source": [
    "!pip install wget"
   ]
  },
  {
   "cell_type": "code",
   "execution_count": 2,
   "metadata": {
    "colab": {
     "base_uri": "https://localhost:8080/"
    },
    "executionInfo": {
     "elapsed": 256,
     "status": "ok",
     "timestamp": 1701187299177,
     "user": {
      "displayName": "Samin Aref",
      "userId": "14087203804246952491"
     },
     "user_tz": 300
    },
    "id": "V9EF4Eirhnxx",
    "outputId": "940a1f5e-e94b-4a75-b874-cc0d21af467a"
   },
   "outputs": [
    {
     "name": "stdout",
     "output_type": "stream",
     "text": [
      "--2023-11-28 16:01:04--  https://saref.github.io/teaching/APS1070/Iris_3class.csv\n",
      "Resolving saref.github.io (saref.github.io)... 185.199.108.153, 185.199.109.153, 185.199.110.153, ...\n",
      "Connecting to saref.github.io (saref.github.io)|185.199.108.153|:443... connected.\n",
      "HTTP request sent, awaiting response... 200 OK\n",
      "Length: 2558 (2.5K) [text/csv]\n",
      "Saving to: ‘Iris_3class.csv’\n",
      "\n",
      "\r",
      "Iris_3class.csv       0%[                    ]       0  --.-KB/s               \r",
      "Iris_3class.csv     100%[===================>]   2.50K  --.-KB/s    in 0s      \n",
      "\n",
      "2023-11-28 16:01:04 (21.5 MB/s) - ‘Iris_3class.csv’ saved [2558/2558]\n",
      "\n"
     ]
    }
   ],
   "source": [
    "!wget \"https://saref.github.io/teaching/APS1070/Iris_3class.csv\""
   ]
  },
  {
   "cell_type": "code",
   "execution_count": 3,
   "metadata": {
    "colab": {
     "base_uri": "https://localhost:8080/"
    },
    "executionInfo": {
     "elapsed": 1358,
     "status": "ok",
     "timestamp": 1701187300532,
     "user": {
      "displayName": "Samin Aref",
      "userId": "14087203804246952491"
     },
     "user_tz": 300
    },
    "id": "v2l_TNr3n72A",
    "outputId": "495aef7d-b0f7-41ec-8f9a-7c05f2b5fec2"
   },
   "outputs": [
    {
     "data": {
      "text/plain": [
       "(150, 5)"
      ]
     },
     "execution_count": 3,
     "metadata": {},
     "output_type": "execute_result"
    }
   ],
   "source": [
    "import pandas as pd\n",
    "raw_data = pd.read_csv(\"Iris_3class.csv\", header = None)\n",
    "raw_data.values.shape"
   ]
  },
  {
   "cell_type": "code",
   "execution_count": 4,
   "metadata": {
    "colab": {
     "base_uri": "https://localhost:8080/"
    },
    "executionInfo": {
     "elapsed": 6,
     "status": "ok",
     "timestamp": 1701187311494,
     "user": {
      "displayName": "Samin Aref",
      "userId": "14087203804246952491"
     },
     "user_tz": 300
    },
    "id": "7EG47Tnmn72B",
    "outputId": "6bee1acd-f90d-4bca-d49e-4e97d5ca2c7c"
   },
   "outputs": [
    {
     "name": "stdout",
     "output_type": "stream",
     "text": [
      "(150, 4) (150, 1)\n",
      "float64 int64\n"
     ]
    }
   ],
   "source": [
    "import numpy as np\n",
    "raw_data = raw_data.values\n",
    "\n",
    "X_train = raw_data[:,:4]\n",
    "y_train = raw_data[:,4:5].astype(int)\n",
    "print(X_train.shape, y_train.shape)\n",
    "print(X_train.dtype, y_train.dtype)"
   ]
  },
  {
   "cell_type": "markdown",
   "metadata": {
    "id": "tDd17mrCTJeP"
   },
   "source": [
    "convert labels (ground truths) into one-hot vectors"
   ]
  },
  {
   "cell_type": "code",
   "execution_count": 5,
   "metadata": {
    "executionInfo": {
     "elapsed": 128,
     "status": "ok",
     "timestamp": 1701187331281,
     "user": {
      "displayName": "Samin Aref",
      "userId": "14087203804246952491"
     },
     "user_tz": 300
    },
    "id": "GcYgv_I5R_LE"
   },
   "outputs": [],
   "source": [
    "#Convert array to one-hot encoding\n",
    "def to_one_hot(Y):\n",
    "    n_col = np.amax(Y) + 1\n",
    "    binarized = np.zeros((len(Y), n_col))\n",
    "    for i in range(len(Y)):\n",
    "        binarized[i, Y[i]] = 1.\n",
    "    return binarized"
   ]
  },
  {
   "cell_type": "code",
   "execution_count": 6,
   "metadata": {
    "colab": {
     "base_uri": "https://localhost:8080/"
    },
    "executionInfo": {
     "elapsed": 121,
     "status": "ok",
     "timestamp": 1701187362064,
     "user": {
      "displayName": "Samin Aref",
      "userId": "14087203804246952491"
     },
     "user_tz": 300
    },
    "id": "ckspIetcSEou",
    "outputId": "ed1e3454-316d-420d-d591-281d46ba3aaf"
   },
   "outputs": [
    {
     "name": "stdout",
     "output_type": "stream",
     "text": [
      "(150, 4) (150, 3)\n",
      "float64 float64\n"
     ]
    }
   ],
   "source": [
    "y_train = to_one_hot(y_train)\n",
    "print(X_train.shape, y_train.shape)\n",
    "print(X_train.dtype, y_train.dtype)"
   ]
  },
  {
   "cell_type": "code",
   "execution_count": null,
   "metadata": {
    "colab": {
     "base_uri": "https://localhost:8080/"
    },
    "executionInfo": {
     "elapsed": 8,
     "status": "ok",
     "timestamp": 1701124335890,
     "user": {
      "displayName": "Bayan Algorithm",
      "userId": "07693120744803458819"
     },
     "user_tz": 300
    },
    "id": "gNbpBYIrTBLu",
    "outputId": "2ef6de72-e87c-4d85-8479-bd7663728b42"
   },
   "outputs": [
    {
     "data": {
      "text/plain": [
       "array([[1., 0., 0.],\n",
       "       [1., 0., 0.],\n",
       "       [1., 0., 0.],\n",
       "       [1., 0., 0.],\n",
       "       [1., 0., 0.]])"
      ]
     },
     "execution_count": 7,
     "metadata": {},
     "output_type": "execute_result"
    }
   ],
   "source": [
    "#verify one-hot encoding\n",
    "y_train[0:5,:]"
   ]
  },
  {
   "cell_type": "markdown",
   "metadata": {
    "id": "c90UmCzGJPLd"
   },
   "source": [
    "At its core, a 2-layer neural network is just a few lines of code.\n",
    "\n",
    "Note that we have excluded the bias terms to keep things simple."
   ]
  },
  {
   "cell_type": "code",
   "execution_count": 7,
   "metadata": {
    "executionInfo": {
     "elapsed": 140,
     "status": "ok",
     "timestamp": 1701187750305,
     "user": {
      "displayName": "Samin Aref",
      "userId": "14087203804246952491"
     },
     "user_tz": 300
    },
    "id": "6C6x8K6jJDMt"
   },
   "outputs": [],
   "source": [
    "#define sigmoid\n",
    "def sigmoid(x):\n",
    "    return 1/(1+np.exp(-x))\n",
    "\n",
    "def ann(W, X_train, y_train):\n",
    "\n",
    "  #Weights\n",
    "  w0 = W[:20].reshape(4,5)\n",
    "  w1 = W[20:].reshape(5,3)\n",
    "\n",
    "  #Feed forward\n",
    "  layer0 = X_train\n",
    "  layer1 = sigmoid(np.dot(layer0, w0))\n",
    "  layer2 = sigmoid(np.dot(layer1, w1)) #predictions\n",
    "\n",
    "  return layer2"
   ]
  },
  {
   "cell_type": "markdown",
   "metadata": {
    "id": "JqMUOdAMODVK"
   },
   "source": [
    "![image.png](data:image/png;base64,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)"
   ]
  },
  {
   "cell_type": "markdown",
   "metadata": {
    "id": "SPLLL-xzJfsw"
   },
   "source": [
    "Most of the complexity introduced is to train the network through backpropagation."
   ]
  },
  {
   "cell_type": "code",
   "execution_count": 8,
   "metadata": {
    "executionInfo": {
     "elapsed": 130,
     "status": "ok",
     "timestamp": 1701188011675,
     "user": {
      "displayName": "Samin Aref",
      "userId": "14087203804246952491"
     },
     "user_tz": 300
    },
    "id": "qs5GCmM5niXV"
   },
   "outputs": [],
   "source": [
    "#define sigmoid\n",
    "def sigmoid(x):\n",
    "    return 1/(1+np.exp(-x))\n",
    "\n",
    "def ann(W, X_train, y_train):\n",
    "\n",
    "  #Weights\n",
    "  w0 = W[:20].reshape(4,5)\n",
    "  w1 = W[20:].reshape(5,3)\n",
    "\n",
    "  #Feed forward\n",
    "  layer0 = X_train\n",
    "  layer1 = sigmoid(np.dot(layer0, w0))\n",
    "  layer2 = sigmoid(np.dot(layer1, w1)) #predictions\n",
    "\n",
    "  #Back propagation using gradient descent\n",
    "  dw0, dw1 = np.zeros((4,5)), np.zeros((5,3))\n",
    "\n",
    "  #calculate partial derivatives in a bachward path\n",
    "  dL_du_hat = layer2-y_train      # derivative of the cost function by the output\n",
    "  du_hat_du = layer2*(1-layer2)   # derivative of the sigmoid function on the output layer\n",
    "  du_dv_hat = w1.T                # derivative of the linear combination in second layer\n",
    "  dv_hat_dv = layer1*(1-layer1)   # derivative of the sigmoid function on the hidden layer\n",
    "  dv_dw0 = X_train\n",
    "  du_dw1 = layer1\n",
    "\n",
    "  #gradients\n",
    "  dw1 += du_dw1.T.dot(dL_du_hat*du_hat_du)\n",
    "  dw0 += dv_dw0.T.dot((dL_du_hat*du_hat_du).dot(du_dv_hat)*(dv_hat_dv))\n",
    "\n",
    "  #combine gradients\n",
    "  dW = np.array(list(dw0.flatten()) + list(dw1.flatten()))\n",
    "\n",
    "  #squared error\n",
    "  error = 0.5*np.sum((layer2 - y_train)**2)\n",
    "\n",
    "  return (error, dW, layer2)"
   ]
  },
  {
   "cell_type": "markdown",
   "metadata": {
    "id": "f6W5pxdJPn9k"
   },
   "source": [
    "Train neural network"
   ]
  },
  {
   "cell_type": "code",
   "execution_count": 9,
   "metadata": {
    "executionInfo": {
     "elapsed": 10914,
     "status": "ok",
     "timestamp": 1701188032962,
     "user": {
      "displayName": "Samin Aref",
      "userId": "14087203804246952491"
     },
     "user_tz": 300
    },
    "id": "0SZkGHblpF0J"
   },
   "outputs": [],
   "source": [
    "#initialize weights\n",
    "w0 = 2*np.random.random((4, 5)) - 1\n",
    "w1 = 2*np.random.random((5, 3)) - 1\n",
    "\n",
    "#combine weights into a single vector\n",
    "W = np.array(list(w0.flatten()) + list(w1.flatten()))\n",
    "\n",
    "#train network\n",
    "n = 0.001\n",
    "errors = []\n",
    "for i in range(100000):\n",
    "  (error, dW, y_hat) = ann(W, X_train, y_train)\n",
    "  W += -dW * n\n",
    "  errors.append(error)"
   ]
  },
  {
   "cell_type": "code",
   "execution_count": 10,
   "metadata": {
    "colab": {
     "base_uri": "https://localhost:8080/"
    },
    "executionInfo": {
     "elapsed": 248,
     "status": "ok",
     "timestamp": 1701188046150,
     "user": {
      "displayName": "Samin Aref",
      "userId": "14087203804246952491"
     },
     "user_tz": 300
    },
    "id": "0enFo7Z-UDUJ",
    "outputId": "4bb2b417-b74e-463f-d4ee-56774e0035cb"
   },
   "outputs": [
    {
     "data": {
      "text/plain": [
       "array([[1. , 0. , 0. ],\n",
       "       [1. , 0. , 0. ],\n",
       "       [1. , 0. , 0. ],\n",
       "       [1. , 0. , 0. ],\n",
       "       [1. , 0. , 0. ],\n",
       "       [1. , 0. , 0. ],\n",
       "       [1. , 0. , 0. ],\n",
       "       [1. , 0. , 0. ],\n",
       "       [1. , 0. , 0. ],\n",
       "       [1. , 0. , 0. ],\n",
       "       [1. , 0. , 0. ],\n",
       "       [1. , 0. , 0. ],\n",
       "       [1. , 0. , 0. ],\n",
       "       [1. , 0. , 0. ],\n",
       "       [1. , 0. , 0. ],\n",
       "       [1. , 0. , 0. ],\n",
       "       [1. , 0. , 0. ],\n",
       "       [1. , 0. , 0. ],\n",
       "       [1. , 0. , 0. ],\n",
       "       [1. , 0. , 0. ],\n",
       "       [1. , 0. , 0. ],\n",
       "       [1. , 0. , 0. ],\n",
       "       [1. , 0. , 0. ],\n",
       "       [1. , 0. , 0. ],\n",
       "       [1. , 0. , 0. ],\n",
       "       [1. , 0. , 0. ],\n",
       "       [1. , 0. , 0. ],\n",
       "       [1. , 0. , 0. ],\n",
       "       [1. , 0. , 0. ],\n",
       "       [1. , 0. , 0. ],\n",
       "       [1. , 0. , 0. ],\n",
       "       [1. , 0. , 0. ],\n",
       "       [1. , 0. , 0. ],\n",
       "       [1. , 0. , 0. ],\n",
       "       [1. , 0. , 0. ],\n",
       "       [1. , 0. , 0. ],\n",
       "       [1. , 0. , 0. ],\n",
       "       [1. , 0. , 0. ],\n",
       "       [1. , 0. , 0. ],\n",
       "       [1. , 0. , 0. ],\n",
       "       [1. , 0. , 0. ],\n",
       "       [1. , 0. , 0. ],\n",
       "       [1. , 0. , 0. ],\n",
       "       [1. , 0. , 0. ],\n",
       "       [1. , 0. , 0. ],\n",
       "       [1. , 0. , 0. ],\n",
       "       [1. , 0. , 0. ],\n",
       "       [1. , 0. , 0. ],\n",
       "       [1. , 0. , 0. ],\n",
       "       [1. , 0. , 0. ],\n",
       "       [0. , 1. , 0. ],\n",
       "       [0. , 1. , 0. ],\n",
       "       [0. , 1. , 0. ],\n",
       "       [0. , 1. , 0. ],\n",
       "       [0. , 1. , 0. ],\n",
       "       [0. , 1. , 0. ],\n",
       "       [0. , 1. , 0. ],\n",
       "       [0. , 1. , 0. ],\n",
       "       [0. , 1. , 0. ],\n",
       "       [0. , 1. , 0. ],\n",
       "       [0. , 1. , 0. ],\n",
       "       [0. , 1. , 0. ],\n",
       "       [0. , 1. , 0. ],\n",
       "       [0. , 1. , 0. ],\n",
       "       [0. , 1. , 0. ],\n",
       "       [0. , 1. , 0. ],\n",
       "       [0. , 1. , 0. ],\n",
       "       [0. , 1. , 0. ],\n",
       "       [0. , 0.8, 0.2],\n",
       "       [0. , 1. , 0. ],\n",
       "       [0. , 0.4, 0.6],\n",
       "       [0. , 1. , 0. ],\n",
       "       [0. , 0.3, 0.7],\n",
       "       [0. , 1. , 0. ],\n",
       "       [0. , 1. , 0. ],\n",
       "       [0. , 1. , 0. ],\n",
       "       [0. , 1. , 0. ],\n",
       "       [0. , 1. , 0. ],\n",
       "       [0. , 1. , 0. ],\n",
       "       [0. , 1. , 0. ],\n",
       "       [0. , 1. , 0. ],\n",
       "       [0. , 1. , 0. ],\n",
       "       [0. , 1. , 0. ],\n",
       "       [0. , 0. , 1. ],\n",
       "       [0. , 0.7, 0.3],\n",
       "       [0. , 1. , 0. ],\n",
       "       [0. , 1. , 0. ],\n",
       "       [0. , 1. , 0. ],\n",
       "       [0. , 1. , 0. ],\n",
       "       [0. , 1. , 0. ],\n",
       "       [0. , 1. , 0. ],\n",
       "       [0. , 1. , 0. ],\n",
       "       [0. , 1. , 0. ],\n",
       "       [0. , 1. , 0. ],\n",
       "       [0. , 1. , 0. ],\n",
       "       [0. , 1. , 0. ],\n",
       "       [0. , 1. , 0. ],\n",
       "       [0. , 1. , 0. ],\n",
       "       [0. , 1. , 0. ],\n",
       "       [0. , 1. , 0. ],\n",
       "       [0. , 0. , 1. ],\n",
       "       [0. , 0. , 1. ],\n",
       "       [0. , 0. , 1. ],\n",
       "       [0. , 0. , 1. ],\n",
       "       [0. , 0. , 1. ],\n",
       "       [0. , 0. , 1. ],\n",
       "       [0. , 0. , 1. ],\n",
       "       [0. , 0. , 1. ],\n",
       "       [0. , 0. , 1. ],\n",
       "       [0. , 0. , 1. ],\n",
       "       [0. , 0.3, 0.7],\n",
       "       [0. , 0. , 1. ],\n",
       "       [0. , 0. , 1. ],\n",
       "       [0. , 0. , 1. ],\n",
       "       [0. , 0. , 1. ],\n",
       "       [0. , 0. , 1. ],\n",
       "       [0. , 0. , 1. ],\n",
       "       [0. , 0. , 1. ],\n",
       "       [0. , 0. , 1. ],\n",
       "       [0. , 0. , 1. ],\n",
       "       [0. , 0. , 1. ],\n",
       "       [0. , 0. , 1. ],\n",
       "       [0. , 0. , 1. ],\n",
       "       [0. , 0.1, 0.9],\n",
       "       [0. , 0. , 1. ],\n",
       "       [0. , 0. , 1. ],\n",
       "       [0. , 0.2, 0.8],\n",
       "       [0. , 0.2, 0.8],\n",
       "       [0. , 0. , 1. ],\n",
       "       [0. , 0.2, 0.8],\n",
       "       [0. , 0. , 1. ],\n",
       "       [0. , 0.5, 0.5],\n",
       "       [0. , 0. , 1. ],\n",
       "       [0. , 0.2, 0.8],\n",
       "       [0. , 0. , 1. ],\n",
       "       [0. , 0. , 1. ],\n",
       "       [0. , 0. , 1. ],\n",
       "       [0. , 0. , 1. ],\n",
       "       [0. , 0.2, 0.8],\n",
       "       [0. , 0.1, 0.9],\n",
       "       [0. , 0. , 1. ],\n",
       "       [0. , 0.2, 0.8],\n",
       "       [0. , 0. , 1. ],\n",
       "       [0. , 0. , 1. ],\n",
       "       [0. , 0. , 1. ],\n",
       "       [0. , 0. , 1. ],\n",
       "       [0. , 0. , 1. ],\n",
       "       [0. , 0. , 1. ],\n",
       "       [0. , 0. , 1. ],\n",
       "       [0. , 0. , 1. ]])"
      ]
     },
     "execution_count": 10,
     "metadata": {},
     "output_type": "execute_result"
    }
   ],
   "source": [
    "#examine predictions on training data\n",
    "np.round(y_hat,1)"
   ]
  },
  {
   "cell_type": "markdown",
   "metadata": {
    "id": "Eyv7qoFcVvPg"
   },
   "source": [
    "The above is just a demonstration of building a neural network from scratch. To properly assess this network you should create a validation data set."
   ]
  },
  {
   "cell_type": "markdown",
   "metadata": {
    "id": "vqBW33rjQKEk"
   },
   "source": [
    "To verify manually calculated gradients using a numerical approach (optional)"
   ]
  },
  {
   "cell_type": "code",
   "execution_count": null,
   "metadata": {
    "id": "zR0qMWc8QCnN"
   },
   "outputs": [],
   "source": [
    "# #initialize weights\n",
    "# w0 = 2*np.random.random((4, 5)) - 1\n",
    "# w1 = 2*np.random.random((5, 3)) - 1\n",
    "\n",
    "# #combine weights\n",
    "# W = np.array(list(w0.flatten()) + list(w1.flatten()))\n",
    "\n",
    "# #compute gradients analytically\n",
    "# (error, dW, y_hat) = ann(W, X_train, y_train)\n",
    "\n",
    "# #compute gradients numerically\n",
    "# dW_num = np.zeros((len(W),1))\n",
    "\n",
    "# for ind in range(len(W)):\n",
    "#   #reset gradients\n",
    "#   We1 = np.array(list(w0.flatten()) + list(w1.flatten()))\n",
    "#   We2 = np.array(list(w0.flatten()) + list(w1.flatten()))\n",
    "\n",
    "#   #increment slightly\n",
    "#   We1[ind] = We1[ind] + 0.000001\n",
    "#   We2[ind] = We2[ind] - 0.000001\n",
    "\n",
    "#   #compute errors\n",
    "#   (error_e1, dW_e1, y_hat) = ann(We1, X_train, y_train)\n",
    "#   (error_e2, dW_e2, y_hat) = ann(We2, X_train, y_train)\n",
    "\n",
    "#   #calculate each gradient\n",
    "#   grad_num = (error_e1-error_e2)/0.000002\n",
    "\n",
    "#   #display difference\n",
    "#   print(round(abs(grad_num-dW[ind]),4), grad_num, dW[ind])"
   ]
  },
  {
   "cell_type": "markdown",
   "metadata": {
    "id": "3shx00ReqUvQ"
   },
   "source": [
    "#Part 2 PyTorch\n",
    "# 2.1 PyTorch Basics"
   ]
  },
  {
   "cell_type": "markdown",
   "metadata": {
    "id": "JiwXNn3SNZfu"
   },
   "source": [
    "### What is PyTorch?\n",
    "\n",
    "PyTorch is a scientific computing package that builds on the NumPy library to allow for the use of GPUs. It incorporates deep learning capabilities while maximizing flexibility and speed.\n",
    "\n",
    "### PyTorch Basics\n",
    "\n",
    "To use PyTorch you must first import the library\n",
    "\n",
    "\n",
    "\n",
    "\n",
    "\n",
    "\n",
    "\n"
   ]
  },
  {
   "cell_type": "code",
   "execution_count": 11,
   "metadata": {
    "executionInfo": {
     "elapsed": 5995,
     "status": "ok",
     "timestamp": 1701190015603,
     "user": {
      "displayName": "Samin Aref",
      "userId": "14087203804246952491"
     },
     "user_tz": 300
    },
    "id": "TU7EUSNcVN9x"
   },
   "outputs": [],
   "source": [
    "import torch"
   ]
  },
  {
   "cell_type": "markdown",
   "metadata": {
    "id": "2bTAo6LzVJwg"
   },
   "source": [
    "#### Tensors\n",
    "Tensors are n-dimensional arrays that allow that can be used with a GPU to accelerate computing. There are several ways to work with Tensors:"
   ]
  },
  {
   "cell_type": "code",
   "execution_count": 12,
   "metadata": {
    "colab": {
     "base_uri": "https://localhost:8080/"
    },
    "executionInfo": {
     "elapsed": 6,
     "status": "ok",
     "timestamp": 1701190015604,
     "user": {
      "displayName": "Samin Aref",
      "userId": "14087203804246952491"
     },
     "user_tz": 300
    },
    "id": "1MuUNQZ3UksM",
    "outputId": "98f6cdc4-b064-4677-abb1-b4678ee256ce"
   },
   "outputs": [
    {
     "name": "stdout",
     "output_type": "stream",
     "text": [
      "tensor([[0.2307, 0.1064, 0.7081],\n",
      "        [0.1194, 0.1166, 0.2219],\n",
      "        [0.8293, 0.2720, 0.6627],\n",
      "        [0.4776, 0.5450, 0.3044]])\n"
     ]
    }
   ],
   "source": [
    "# initialize a random tensor\n",
    "x = torch.rand(4, 3)\n",
    "print(x)"
   ]
  },
  {
   "cell_type": "code",
   "execution_count": 13,
   "metadata": {
    "colab": {
     "base_uri": "https://localhost:8080/"
    },
    "executionInfo": {
     "elapsed": 167,
     "status": "ok",
     "timestamp": 1701190023014,
     "user": {
      "displayName": "Samin Aref",
      "userId": "14087203804246952491"
     },
     "user_tz": 300
    },
    "id": "SmcpRB48VVFe",
    "outputId": "5219ba33-5e1d-41a2-8f2a-e1fb5e641520"
   },
   "outputs": [
    {
     "name": "stdout",
     "output_type": "stream",
     "text": [
      "tensor([[0., 0., 0.],\n",
      "        [0., 0., 0.],\n",
      "        [0., 0., 0.],\n",
      "        [0., 0., 0.]])\n"
     ]
    }
   ],
   "source": [
    "# initialize a tensor loaded with zeros\n",
    "x = torch.zeros(4, 3)\n",
    "print(x)"
   ]
  },
  {
   "cell_type": "code",
   "execution_count": 14,
   "metadata": {
    "colab": {
     "base_uri": "https://localhost:8080/"
    },
    "executionInfo": {
     "elapsed": 166,
     "status": "ok",
     "timestamp": 1701190025628,
     "user": {
      "displayName": "Samin Aref",
      "userId": "14087203804246952491"
     },
     "user_tz": 300
    },
    "id": "LI84uJM-VjyL",
    "outputId": "4121e32e-a07b-4589-fe61-3cac4eecdd9e"
   },
   "outputs": [
    {
     "name": "stdout",
     "output_type": "stream",
     "text": [
      "tensor([ 2.1000,  4.0000, -5.2000])\n"
     ]
    }
   ],
   "source": [
    "# initialized with data entered manually\n",
    "x = torch.tensor([2.1, 4.0, -5.2])\n",
    "print(x)"
   ]
  },
  {
   "cell_type": "code",
   "execution_count": 15,
   "metadata": {
    "colab": {
     "base_uri": "https://localhost:8080/"
    },
    "executionInfo": {
     "elapsed": 138,
     "status": "ok",
     "timestamp": 1701190030814,
     "user": {
      "displayName": "Samin Aref",
      "userId": "14087203804246952491"
     },
     "user_tz": 300
    },
    "id": "421on8nnWE3e",
    "outputId": "fe68f22d-700e-471e-d55a-21fe91cfa946"
   },
   "outputs": [
    {
     "name": "stdout",
     "output_type": "stream",
     "text": [
      "[ 2.1  4.  -5.2]\n",
      "tensor([ 2.1000,  4.0000, -5.2000], dtype=torch.float64)\n",
      "[ 2.1  4.  -5.2]\n"
     ]
    }
   ],
   "source": [
    "# initialized with data from numPy\n",
    "import numpy as np\n",
    "data = np.array([2.1, 4.0, -5.2])\n",
    "print(data)\n",
    "x = torch.tensor(data)\n",
    "print(x)\n",
    "\n",
    "# note that you can easily convert a tensor to numpy array\n",
    "x_np = x.numpy()\n",
    "print(x_np)"
   ]
  },
  {
   "cell_type": "markdown",
   "metadata": {
    "id": "R_I8gINJWy1g"
   },
   "source": [
    "### Tensor size and shape"
   ]
  },
  {
   "cell_type": "code",
   "execution_count": 16,
   "metadata": {
    "colab": {
     "base_uri": "https://localhost:8080/"
    },
    "executionInfo": {
     "elapsed": 237,
     "status": "ok",
     "timestamp": 1701190049118,
     "user": {
      "displayName": "Samin Aref",
      "userId": "14087203804246952491"
     },
     "user_tz": 300
    },
    "id": "CUCzrV1nW5XA",
    "outputId": "cb6626aa-98ab-4139-9dc0-c51f850adb5f"
   },
   "outputs": [
    {
     "name": "stdout",
     "output_type": "stream",
     "text": [
      "torch.Size([4, 3])\n"
     ]
    }
   ],
   "source": [
    "# obtain size of tensor data structure\n",
    "# similar to .shape() in Numpy\n",
    "x = torch.zeros(4, 3)\n",
    "print(x.size())"
   ]
  },
  {
   "cell_type": "markdown",
   "metadata": {
    "id": "cdPIVeeEXFO5"
   },
   "source": [
    "### Operations\n"
   ]
  },
  {
   "cell_type": "code",
   "execution_count": 17,
   "metadata": {
    "colab": {
     "base_uri": "https://localhost:8080/"
    },
    "executionInfo": {
     "elapsed": 127,
     "status": "ok",
     "timestamp": 1701190066385,
     "user": {
      "displayName": "Samin Aref",
      "userId": "14087203804246952491"
     },
     "user_tz": 300
    },
    "id": "M5AltppKXUZv",
    "outputId": "f6904796-13ef-4e51-cef8-84e25b5e18ff"
   },
   "outputs": [
    {
     "name": "stdout",
     "output_type": "stream",
     "text": [
      "tensor([[1.3715, 1.6953, 1.7046],\n",
      "        [1.6260, 1.9218, 1.5437],\n",
      "        [1.8700, 1.3806, 1.8607],\n",
      "        [1.1565, 1.7857, 1.8275]])\n"
     ]
    }
   ],
   "source": [
    "# tensor addition\n",
    "x = torch.rand(4, 3)\n",
    "y = torch.ones(4, 3)\n",
    "print(x + y)"
   ]
  },
  {
   "cell_type": "code",
   "execution_count": null,
   "metadata": {
    "id": "Ib-Px_xvsVys"
   },
   "outputs": [],
   "source": [
    "# Same tensor addition by\n",
    "# providing output tensor as argument\n",
    "# result = torch.ones(4,3)\n",
    "# torch.add(x, y, out = result)\n",
    "# print(result)"
   ]
  },
  {
   "cell_type": "code",
   "execution_count": null,
   "metadata": {
    "colab": {
     "base_uri": "https://localhost:8080/"
    },
    "executionInfo": {
     "elapsed": 139,
     "status": "ok",
     "timestamp": 1701125289503,
     "user": {
      "displayName": "Bayan Algorithm",
      "userId": "07693120744803458819"
     },
     "user_tz": 300
    },
    "id": "9UsB6YlwX_p2",
    "outputId": "16addb7a-072f-482e-9502-8e561896350d"
   },
   "outputs": [
    {
     "name": "stdout",
     "output_type": "stream",
     "text": [
      "x=  tensor([[9.7777e-01, 9.7276e-01, 1.4476e-01],\n",
      "        [3.4626e-01, 5.2667e-01, 4.9526e-01],\n",
      "        [4.7285e-01, 5.3592e-01, 9.7343e-01],\n",
      "        [3.9673e-04, 9.3746e-01, 2.7941e-01]]) \n",
      "\n",
      " x*y=  tensor([[9.7777e-01, 9.7276e-01, 1.4476e-01],\n",
      "        [3.4626e-01, 5.2667e-01, 4.9526e-01],\n",
      "        [4.7285e-01, 5.3592e-01, 9.7343e-01],\n",
      "        [3.9673e-04, 9.3746e-01, 2.7941e-01]]) \n",
      "\n",
      " x@z=  tensor([[2.0953, 2.0953, 2.0953, 2.0953],\n",
      "        [1.3682, 1.3682, 1.3682, 1.3682],\n",
      "        [1.9822, 1.9822, 1.9822, 1.9822],\n",
      "        [1.2173, 1.2173, 1.2173, 1.2173]])\n"
     ]
    }
   ],
   "source": [
    "# tensor multiplication\n",
    "# * is for entry-wise multiplication\n",
    "# @ is for matrix multiplication\n",
    "x = torch.rand(4, 3)\n",
    "y = torch.ones(4, 3)\n",
    "z = torch.ones(3, 4)\n",
    "print(\"x= \",x, \"\\n\\n x*y= \", x * y, \"\\n\\n x@z= \", x@z)"
   ]
  },
  {
   "cell_type": "code",
   "execution_count": 18,
   "metadata": {
    "colab": {
     "base_uri": "https://localhost:8080/"
    },
    "executionInfo": {
     "elapsed": 414,
     "status": "ok",
     "timestamp": 1701190160995,
     "user": {
      "displayName": "Samin Aref",
      "userId": "14087203804246952491"
     },
     "user_tz": 300
    },
    "id": "FxDlMlhnYWAN",
    "outputId": "cc617502-5d82-4d1a-8560-a59472636b55"
   },
   "outputs": [
    {
     "name": "stdout",
     "output_type": "stream",
     "text": [
      "torch.Size([4, 3]) torch.Size([12]) torch.Size([3, 4]) \n",
      "\n",
      "x=  tensor([[ 0.0986, -0.0409, -0.2705],\n",
      "        [-0.1694, -0.4734,  0.3931],\n",
      "        [ 0.1159, -1.0986,  1.8033],\n",
      "        [-0.4484,  0.2793, -0.7648]]) \n",
      "\n",
      " y=  tensor([ 0.0986, -0.0409, -0.2705, -0.1694, -0.4734,  0.3931,  0.1159, -1.0986,\n",
      "         1.8033, -0.4484,  0.2793, -0.7648]) \n",
      "\n",
      " z=  tensor([[ 0.0986, -0.0409, -0.2705, -0.1694],\n",
      "        [-0.4734,  0.3931,  0.1159, -1.0986],\n",
      "        [ 1.8033, -0.4484,  0.2793, -0.7648]])\n"
     ]
    }
   ],
   "source": [
    "# resize and reshape tensors\n",
    "x = torch.randn(4, 3)\n",
    "y = x.view(12)\n",
    "z = x.view(-1, 4)  # the size -1 is inferred from other dimensions\n",
    "print(x.size(), y.size(), z.size(),\"\\n\")\n",
    "print(\"x= \",x, \"\\n\\n y= \",  y, \"\\n\\n z= \", z)"
   ]
  },
  {
   "cell_type": "code",
   "execution_count": 19,
   "metadata": {
    "colab": {
     "base_uri": "https://localhost:8080/"
    },
    "executionInfo": {
     "elapsed": 155,
     "status": "ok",
     "timestamp": 1701190250214,
     "user": {
      "displayName": "Samin Aref",
      "userId": "14087203804246952491"
     },
     "user_tz": 300
    },
    "id": "IBcAFWNSZnPE",
    "outputId": "5bad881b-f562-4c0e-fd0f-77c3b7198bb5"
   },
   "outputs": [
    {
     "name": "stdout",
     "output_type": "stream",
     "text": [
      "tensor([0.6578])\n",
      "0.6578395366668701\n"
     ]
    }
   ],
   "source": [
    "# convert one element tensor to a Python number\n",
    "x = torch.randn(1)\n",
    "print(x)\n",
    "print(x.item())"
   ]
  },
  {
   "cell_type": "markdown",
   "metadata": {
    "id": "OhBQXibrZy0Z"
   },
   "source": [
    "### Automatic Differentiation\n",
    "\n",
    "The PyTorch autograd package allows for easy computation of derivatives. This is handled automatically using a define-by-run framework, which works as you write your code.\n",
    "\n",
    "To enable this feature you need to set the Tensor attribute .required_grat to True, at which point it begins to track all operations performed on it. After your computation have been completed you can call .backward() and all the gradients will be computed for you. The gradient for each tensor will be stored in the tensor attribute .grad.\n",
    "\n",
    "Each tensor also has a .grad_fn attribute which references the function that has created it.\n",
    "\n"
   ]
  },
  {
   "cell_type": "code",
   "execution_count": null,
   "metadata": {
    "colab": {
     "base_uri": "https://localhost:8080/"
    },
    "executionInfo": {
     "elapsed": 9,
     "status": "ok",
     "timestamp": 1701124364482,
     "user": {
      "displayName": "Bayan Algorithm",
      "userId": "07693120744803458819"
     },
     "user_tz": 300
    },
    "id": "bKqBTFK2cRZW",
    "outputId": "eaf6e14e-ac45-426d-f530-6865b819176b"
   },
   "outputs": [
    {
     "name": "stdout",
     "output_type": "stream",
     "text": [
      "x=  tensor([[1., 2.],\n",
      "        [3., 4.]], requires_grad=True)\n",
      "\n",
      " \n",
      " y=  tensor([[11., 12.],\n",
      "        [13., 14.]], grad_fn=<AddBackward0>) \n",
      " \n",
      " z=  tensor([[121., 144.],\n",
      "        [169., 196.]], grad_fn=<MulBackward0>) \n",
      " \n",
      " out=  tensor(157.5000, grad_fn=<MeanBackward0>)\n"
     ]
    }
   ],
   "source": [
    "# Example computation of gradients\n",
    "\n",
    "x = torch.tensor([[1.0, 2.0],\n",
    "                  [3.0, 4.0]], requires_grad=True)\n",
    "print(\"x= \",x)\n",
    "\n",
    "#perform some operations\n",
    "y = x + 10\n",
    "z = y*y\n",
    "out = z.mean()\n",
    "\n",
    "print(\"\\n \\n y= \",y, \"\\n \\n z= \",z, \"\\n \\n out= \" , out)"
   ]
  },
  {
   "cell_type": "markdown",
   "metadata": {
    "id": "EPk2jgM0zkeD"
   },
   "source": [
    "![image.png](data:image/png;base64,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)"
   ]
  },
  {
   "cell_type": "code",
   "execution_count": null,
   "metadata": {
    "colab": {
     "base_uri": "https://localhost:8080/"
    },
    "executionInfo": {
     "elapsed": 7,
     "status": "ok",
     "timestamp": 1701124364482,
     "user": {
      "displayName": "Bayan Algorithm",
      "userId": "07693120744803458819"
     },
     "user_tz": 300
    },
    "id": "6JDr3PgVdGMp",
    "outputId": "0b7a8017-f369-4321-cae0-9ecfe5bf3366"
   },
   "outputs": [
    {
     "name": "stdout",
     "output_type": "stream",
     "text": [
      "tensor([[5.5000, 6.0000],\n",
      "        [6.5000, 7.0000]])\n"
     ]
    }
   ],
   "source": [
    "# compute the gradients with respect to the output\n",
    "# It does backward pass computations to find\n",
    "# the gradient of out based on the original input (x)\n",
    "# Each entry of x.grad shows how sensitive the output is\n",
    "# to the corresponding entry of x\n",
    "out.backward()\n",
    "print(x.grad)"
   ]
  },
  {
   "cell_type": "markdown",
   "metadata": {
    "id": "m8fTl27L0OP5"
   },
   "source": [
    "Each tensor also has a .grad_fn attribute which references the function that has created it."
   ]
  },
  {
   "cell_type": "code",
   "execution_count": null,
   "metadata": {
    "colab": {
     "base_uri": "https://localhost:8080/"
    },
    "executionInfo": {
     "elapsed": 6,
     "status": "ok",
     "timestamp": 1701124364482,
     "user": {
      "displayName": "Bayan Algorithm",
      "userId": "07693120744803458819"
     },
     "user_tz": 300
    },
    "id": "Ln76n8cLQfPX",
    "outputId": "2e049fc1-b941-4c65-abd4-36980bcd6e75"
   },
   "outputs": [
    {
     "name": "stdout",
     "output_type": "stream",
     "text": [
      "\n",
      " x comes from None\n",
      "\n",
      " y comes from <AddBackward0 object at 0x7c75b07b08e0>\n",
      "\n",
      " z comes from <MulBackward0 object at 0x7c75b07b3cd0>\n",
      "\n",
      " out comes from <MeanBackward0 object at 0x7c75b07b08e0>\n"
     ]
    }
   ],
   "source": [
    "print(\"\\n x comes from\",x.grad_fn)\n",
    "print(\"\\n y comes from\",y.grad_fn)\n",
    "print(\"\\n z comes from\",z.grad_fn)\n",
    "print(\"\\n out comes from\",out.grad_fn)"
   ]
  },
  {
   "cell_type": "code",
   "execution_count": null,
   "metadata": {
    "id": "jhqGNstrApMb"
   },
   "outputs": [],
   "source": []
  },
  {
   "cell_type": "markdown",
   "metadata": {
    "id": "8ntVfJhxUjtN"
   },
   "source": [
    "## 2.2 MNIST Binary Classification\n",
    "In this example we will train an \"artificial pigeon\" to perform a digit recognition\n",
    "task. That is, we will use the MNIST dataset of hand-written digits, and train\n",
    "the pigeon to **recognize a small digit, namely a digit that is less than 3**.\n",
    "This problem is a **binary classification problem** we want to predict\n",
    "which of two classes an input image is a part of.\n",
    "\n",
    "### Load MNIST Data\n",
    "The MNIST dataset contains hand-written digits that are 28x28 pixels large.\n",
    "Here are a few digits in the dataset:\n"
   ]
  },
  {
   "cell_type": "code",
   "execution_count": 20,
   "metadata": {
    "colab": {
     "base_uri": "https://localhost:8080/"
    },
    "executionInfo": {
     "elapsed": 6262,
     "status": "ok",
     "timestamp": 1701190707492,
     "user": {
      "displayName": "Samin Aref",
      "userId": "14087203804246952491"
     },
     "user_tz": 300
    },
    "id": "FOu8rvDVMpSq",
    "outputId": "18e68dce-d445-448e-9f5c-acf69d1d81e2"
   },
   "outputs": [
    {
     "name": "stdout",
     "output_type": "stream",
     "text": [
      "Downloading http://yann.lecun.com/exdb/mnist/train-images-idx3-ubyte.gz\n",
      "Downloading http://yann.lecun.com/exdb/mnist/train-images-idx3-ubyte.gz to data/MNIST/raw/train-images-idx3-ubyte.gz\n"
     ]
    },
    {
     "name": "stderr",
     "output_type": "stream",
     "text": [
      "100%|██████████| 9912422/9912422 [00:00<00:00, 100156371.94it/s]\n"
     ]
    },
    {
     "name": "stdout",
     "output_type": "stream",
     "text": [
      "Extracting data/MNIST/raw/train-images-idx3-ubyte.gz to data/MNIST/raw\n",
      "\n",
      "Downloading http://yann.lecun.com/exdb/mnist/train-labels-idx1-ubyte.gz\n",
      "Downloading http://yann.lecun.com/exdb/mnist/train-labels-idx1-ubyte.gz to data/MNIST/raw/train-labels-idx1-ubyte.gz\n"
     ]
    },
    {
     "name": "stderr",
     "output_type": "stream",
     "text": [
      "100%|██████████| 28881/28881 [00:00<00:00, 70881037.93it/s]\n"
     ]
    },
    {
     "name": "stdout",
     "output_type": "stream",
     "text": [
      "Extracting data/MNIST/raw/train-labels-idx1-ubyte.gz to data/MNIST/raw\n",
      "\n",
      "Downloading http://yann.lecun.com/exdb/mnist/t10k-images-idx3-ubyte.gz\n",
      "Downloading http://yann.lecun.com/exdb/mnist/t10k-images-idx3-ubyte.gz to data/MNIST/raw/t10k-images-idx3-ubyte.gz\n"
     ]
    },
    {
     "name": "stderr",
     "output_type": "stream",
     "text": [
      "100%|██████████| 1648877/1648877 [00:00<00:00, 29942423.56it/s]\n"
     ]
    },
    {
     "name": "stdout",
     "output_type": "stream",
     "text": [
      "Extracting data/MNIST/raw/t10k-images-idx3-ubyte.gz to data/MNIST/raw\n",
      "\n",
      "Downloading http://yann.lecun.com/exdb/mnist/t10k-labels-idx1-ubyte.gz\n",
      "Downloading http://yann.lecun.com/exdb/mnist/t10k-labels-idx1-ubyte.gz to data/MNIST/raw/t10k-labels-idx1-ubyte.gz\n"
     ]
    },
    {
     "name": "stderr",
     "output_type": "stream",
     "text": [
      "100%|██████████| 4542/4542 [00:00<00:00, 1698816.55it/s]\n"
     ]
    },
    {
     "name": "stdout",
     "output_type": "stream",
     "text": [
      "Extracting data/MNIST/raw/t10k-labels-idx1-ubyte.gz to data/MNIST/raw\n",
      "\n"
     ]
    }
   ],
   "source": [
    "from torchvision import datasets, transforms\n",
    "\n",
    "# load the data\n",
    "mnist_train = datasets.MNIST('data', train=True, download=True)\n",
    "\n",
    "# using the first 2000 samples for training\n",
    "mnist_train = list(mnist_train)[:2000]"
   ]
  },
  {
   "cell_type": "code",
   "execution_count": 21,
   "metadata": {
    "colab": {
     "base_uri": "https://localhost:8080/",
     "height": 396
    },
    "executionInfo": {
     "elapsed": 2487,
     "status": "ok",
     "timestamp": 1701190710449,
     "user": {
      "displayName": "Samin Aref",
      "userId": "14087203804246952491"
     },
     "user_tz": 300
    },
    "id": "U3xCgqcwMvCl",
    "outputId": "fd035d9e-4279-4809-92c3-2be62dc5fb52"
   },
   "outputs": [
    {
     "data": {
      "image/png": "[encoded data removed]",
      "text/plain": [
       "<Figure size 640x480 with 18 Axes>"
      ]
     },
     "metadata": {},
     "output_type": "display_data"
    }
   ],
   "source": [
    "# plot the first 18 images in the training data\n",
    "import matplotlib.pyplot as plt\n",
    "for k, (image, label) in enumerate(mnist_train[:18]):\n",
    "    plt.subplot(3, 6, k+1)\n",
    "    plt.imshow(image)\n"
   ]
  },
  {
   "cell_type": "markdown",
   "metadata": {
    "id": "F-DcwbkZ3Nlx"
   },
   "source": [
    "### Defining the ANN Forward Pass\n",
    "Here is an implementation of the artificial pigeon brain in PyTorch."
   ]
  },
  {
   "cell_type": "code",
   "execution_count": 22,
   "metadata": {
    "executionInfo": {
     "elapsed": 202,
     "status": "ok",
     "timestamp": 1701190994565,
     "user": {
      "displayName": "Samin Aref",
      "userId": "14087203804246952491"
     },
     "user_tz": 300
    },
    "id": "1-ueh5jh3I5p"
   },
   "outputs": [],
   "source": [
    "import torch\n",
    "import torch.nn as nn\n",
    "import torch.nn.functional as F\n",
    "from torchvision import datasets, transforms\n",
    "import matplotlib.pyplot as plt # for plotting\n",
    "\n",
    "import torch.optim as optim\n",
    "\n",
    "torch.manual_seed(1) # set the random seed\n",
    "\n",
    "class Pigeon(nn.Module):\n",
    "    # The architecture\n",
    "    def __init__(self):\n",
    "        super(Pigeon, self).__init__()\n",
    "        self.layer1 = nn.Linear(28 * 28, 30)\n",
    "        # Note that we have one output neuron because this is a binary classification task\n",
    "        self.layer2 = nn.Linear(30, 1)\n",
    "    # Wiring the neurons\n",
    "    def forward(self, img):\n",
    "        # We reshape the input so that there are 28*28 columns and n rows.\n",
    "        # n is inferred automatically using \"-1\" as an argument\n",
    "        flattened = img.view(-1, 28 * 28)\n",
    "        # we feed the input to the first layer\n",
    "        activation1 = self.layer1(flattened)\n",
    "        # 30 numbers will come out and a tanh activation is applied to them\n",
    "        intermediate = torch.tanh(activation1)\n",
    "        # The 30 intermediate outputs are fed into layer2 which has 1 output\n",
    "        activation2 = self.layer2(intermediate)\n",
    "        return activation2\n",
    "\n",
    "pigeon = Pigeon()"
   ]
  },
  {
   "cell_type": "code",
   "execution_count": 23,
   "metadata": {
    "colab": {
     "base_uri": "https://localhost:8080/"
    },
    "executionInfo": {
     "elapsed": 119,
     "status": "ok",
     "timestamp": 1701190998271,
     "user": {
      "displayName": "Samin Aref",
      "userId": "14087203804246952491"
     },
     "user_tz": 300
    },
    "id": "qVKQjPOPRpB6",
    "outputId": "ada11d48-8408-46ed-ed75-012699fa6fe5"
   },
   "outputs": [
    {
     "name": "stdout",
     "output_type": "stream",
     "text": [
      "Pigeon(\n",
      "  (layer1): Linear(in_features=784, out_features=30, bias=True)\n",
      "  (layer2): Linear(in_features=30, out_features=1, bias=True)\n",
      ")\n"
     ]
    }
   ],
   "source": [
    "# The architecture of the model\n",
    "print (pigeon)"
   ]
  },
  {
   "cell_type": "markdown",
   "metadata": {
    "id": "hi9lSSOtKhEE"
   },
   "source": [
    "In this network, there are 28x28 = 784 input neurons, to work with our 28x28 pixel images. We have a single output neuron and a hidden layer of 30 neurons.\n",
    "\n",
    "The variable `pigeon.layer1` contains information about the connectivity\n",
    "between the input layer and the hidden layer (stored as a matrix), and the\n",
    "biases (stored as a vector).\n",
    "\n",
    "Similarly, the variable `pigeon.layer2` contains information about the weights\n",
    "between the hidden layer and the output layer, and the bias.\n",
    "\n",
    "The weights and biases adjust during training, so they are called the model's\n",
    "**parameters**."
   ]
  },
  {
   "cell_type": "code",
   "execution_count": null,
   "metadata": {
    "colab": {
     "base_uri": "https://localhost:8080/"
    },
    "executionInfo": {
     "elapsed": 117,
     "status": "ok",
     "timestamp": 1701125914951,
     "user": {
      "displayName": "Bayan Algorithm",
      "userId": "07693120744803458819"
     },
     "user_tz": 300
    },
    "id": "82KQZkDlLx7j",
    "outputId": "bfa10497-2dbd-4965-8465-c96197add011"
   },
   "outputs": [
    {
     "name": "stdout",
     "output_type": "stream",
     "text": [
      "shape:  torch.Size([30, 784]) Parameter containing:\n",
      "tensor([[ 0.0184, -0.0158, -0.0069,  ...,  0.0068, -0.0041,  0.0025],\n",
      "        [-0.0274, -0.0224, -0.0309,  ..., -0.0029,  0.0013, -0.0167],\n",
      "        [ 0.0282, -0.0095, -0.0340,  ..., -0.0141,  0.0056, -0.0335],\n",
      "        ...,\n",
      "        [ 0.0267,  0.0186, -0.0326,  ...,  0.0047, -0.0072, -0.0301],\n",
      "        [-0.0190,  0.0291,  0.0221,  ...,  0.0067,  0.0206,  0.0151],\n",
      "        [ 0.0226,  0.0331,  0.0182,  ...,  0.0150,  0.0278, -0.0073]],\n",
      "       requires_grad=True) \n",
      " \n",
      "\n",
      "shape:  torch.Size([30]) Parameter containing:\n",
      "tensor([-0.0210,  0.0144,  0.0214, -0.0018, -0.0185,  0.0275, -0.0284, -0.0248,\n",
      "        -0.0180, -0.0168, -0.0226, -0.0093,  0.0211, -0.0311,  0.0002, -0.0010,\n",
      "         0.0201,  0.0176, -0.0050,  0.0118, -0.0089,  0.0078, -0.0072,  0.0118,\n",
      "         0.0122, -0.0125,  0.0326,  0.0306,  0.0058, -0.0089],\n",
      "       requires_grad=True) \n",
      " \n",
      "\n"
     ]
    }
   ],
   "source": [
    "# view the shape of the weight tensors\n",
    "# and the initialized values\n",
    "# we have a [30, 784] tensor for weights and a [30] tensor for biases\n",
    "# each row of the tensor is responsible for one output neuron\n",
    "# Q: how many trainable parameters we have in layer 1?\n",
    "for w in pigeon.layer1.parameters():\n",
    "    print(\"shape: \", w.shape , w ,\"\\n \\n\" )"
   ]
  },
  {
   "cell_type": "markdown",
   "metadata": {
    "id": "86ubAvO03eMp"
   },
   "source": [
    "### Test Network Forward Pass\n",
    "Here is an example of using the network (before training) to classify whether the\n",
    "image contains a small digit."
   ]
  },
  {
   "cell_type": "code",
   "execution_count": 25,
   "metadata": {
    "colab": {
     "base_uri": "https://localhost:8080/"
    },
    "executionInfo": {
     "elapsed": 130,
     "status": "ok",
     "timestamp": 1701192094551,
     "user": {
      "displayName": "Samin Aref",
      "userId": "14087203804246952491"
     },
     "user_tz": 300
    },
    "id": "OtiBP83X247A",
    "outputId": "f9eb5e59-3f5f-4c2a-f9d6-4c4fe6daab98"
   },
   "outputs": [
    {
     "name": "stdout",
     "output_type": "stream",
     "text": [
      "tensor([[0.5196]], grad_fn=<SigmoidBackward0>)\n",
      "tensor([[0.5377]], grad_fn=<SigmoidBackward0>)\n",
      "tensor([[0.4904]], grad_fn=<SigmoidBackward0>)\n",
      "tensor([[0.4942]], grad_fn=<SigmoidBackward0>)\n",
      "tensor([[0.4945]], grad_fn=<SigmoidBackward0>)\n",
      "tensor([[0.4982]], grad_fn=<SigmoidBackward0>)\n",
      "tensor([[0.4822]], grad_fn=<SigmoidBackward0>)\n",
      "tensor([[0.4989]], grad_fn=<SigmoidBackward0>)\n",
      "tensor([[0.4811]], grad_fn=<SigmoidBackward0>)\n",
      "tensor([[0.4839]], grad_fn=<SigmoidBackward0>)\n"
     ]
    }
   ],
   "source": [
    "# make predictions for the first 10 images in mnist_train\n",
    "img_to_tensor = transforms.ToTensor() #transform the image data into a 28x28 matrix of numbers\n",
    "\n",
    "for k, (image, label) in enumerate(mnist_train[:10]):\n",
    "    inval = img_to_tensor(image)\n",
    "    outval = pigeon(inval)       # find the output activation given input\n",
    "    prob = torch.sigmoid(outval) # turn the activation into a probability\n",
    "    print(prob)"
   ]
  },
  {
   "cell_type": "markdown",
   "metadata": {
    "id": "SHkHYl0aO7ot"
   },
   "source": [
    "Since we haven't trained the network\n",
    "yet, the predicted probability of images containing a small digit\n",
    "is close to half. The \"pigeon\" is unsure.\n",
    "\n",
    "In order for the network to be useful, we need to train it, so\n",
    "that the weights become meaningful values through backpropagation."
   ]
  },
  {
   "cell_type": "markdown",
   "metadata": {
    "id": "RiUzssKS3ifv"
   },
   "source": [
    "### Update Parameters using Gradient Descent with Cross-Entropy\n",
    "To update the parameters (weights) we will first use the network to make predictions, then compare the predictions\n",
    "against the ground truth. To compare the predictions against target class values we'll compute a classification error using the Cross-Entropy equation.\n",
    "\n",
    "The classification error quantifies how good or bad the prediction was compared to the target class value. It is more commonly referred to as the **loss** and Cross-Entropy is the **loss function**. The introduction of a loss function makes our problem a **optimization** problem: what set of parameters minimizes the loss across the training examples?\n",
    "\n",
    "Turning a learning problem into an optimization problem\n",
    "is actually a very subtle but important step in many machine learning tools,\n",
    "because it allows us to use tools from mathematical optimization.\n",
    "\n",
    "There are **optimizers** that can tune the network parameters for\n",
    "us. The gradient descent algorithm is one example of an optimizer.\n",
    "\n",
    "For now, we will choose a standard loss function for a binary classification\n",
    "problem: the **binary cross-entropy loss**. We'll also choose\n",
    "a **stochastic gradient descent** optimizer."
   ]
  },
  {
   "cell_type": "code",
   "execution_count": 26,
   "metadata": {
    "executionInfo": {
     "elapsed": 221,
     "status": "ok",
     "timestamp": 1701192181361,
     "user": {
      "displayName": "Samin Aref",
      "userId": "14087203804246952491"
     },
     "user_tz": 300
    },
    "id": "qZhbr5Bw270k"
   },
   "outputs": [],
   "source": [
    "# simplified training code to train `pigeon` on the \"small digit recognition\" task\n",
    "import torch.optim as optim\n",
    "# Defining the loss function\n",
    "criterion = nn.BCEWithLogitsLoss()\n",
    "# Defining the optimizer and its parameters\n",
    "optimizer = optim.SGD(pigeon.parameters(), lr=0.005, momentum=0.9)"
   ]
  },
  {
   "cell_type": "markdown",
   "metadata": {
    "id": "BtHoiE6AYadE"
   },
   "source": [
    "Now, we can start to train the pigeon network, similar to the way we would train\n",
    "a real pigeon:\n",
    "\n",
    "1. We'll show the network pictures of digits, one by one\n",
    "2. We'll see what the network predicts\n",
    "3. We'll check the loss function for that example digit, comparing the network prediction against the ground truth\n",
    "4. We'll make a small update to the parameters to try and improve the loss for that digit\n",
    "5. We'll repeat steps 1-4 many times.\n",
    "\n",
    "For simplicity, we'll use 1000 images, and show the network each image only once."
   ]
  },
  {
   "cell_type": "code",
   "execution_count": 27,
   "metadata": {
    "executionInfo": {
     "elapsed": 1080,
     "status": "ok",
     "timestamp": 1701192239195,
     "user": {
      "displayName": "Samin Aref",
      "userId": "14087203804246952491"
     },
     "user_tz": 300
    },
    "id": "LHmT89U0RM3C"
   },
   "outputs": [],
   "source": [
    "for (image, label) in mnist_train[:1000]:\n",
    "    # actual ground truth: is the digit less than 3?\n",
    "    # we create a tensor for binary labels\n",
    "    actual = torch.tensor(label < 3).reshape([1,1]).type(torch.FloatTensor)\n",
    "    # pigeon prediction\n",
    "    out = pigeon(img_to_tensor(image)) # step 1-2\n",
    "    # update the parameters based on the loss\n",
    "    loss = criterion(out, actual)      # step 3\n",
    "    loss.backward()                    # step 4 (compute the updates for each parameter)\n",
    "    optimizer.step()                   # step 4 (make the updates for each parameter)\n",
    "    optimizer.zero_grad()              # a clean up step for PyTorch"
   ]
  },
  {
   "cell_type": "markdown",
   "metadata": {
    "id": "JfzAfZiuRQWx"
   },
   "source": [
    "It is very common to run into errors with changing different data types to tensors with the correct shape."
   ]
  },
  {
   "cell_type": "markdown",
   "metadata": {
    "id": "p9Gieq973sDh"
   },
   "source": [
    "### Test Updated Network Forward Pass"
   ]
  },
  {
   "cell_type": "code",
   "execution_count": 28,
   "metadata": {
    "colab": {
     "base_uri": "https://localhost:8080/"
    },
    "executionInfo": {
     "elapsed": 200,
     "status": "ok",
     "timestamp": 1701192243263,
     "user": {
      "displayName": "Samin Aref",
      "userId": "14087203804246952491"
     },
     "user_tz": 300
    },
    "id": "N-RgzimS3FEW",
    "outputId": "fffd3edd-40f8-46d5-a39d-60b366e8b9ec"
   },
   "outputs": [
    {
     "name": "stdout",
     "output_type": "stream",
     "text": [
      "5 tensor([[0.0085]], grad_fn=<SigmoidBackward0>)\n",
      "0 tensor([[0.9310]], grad_fn=<SigmoidBackward0>)\n",
      "4 tensor([[0.0259]], grad_fn=<SigmoidBackward0>)\n",
      "1 tensor([[0.9332]], grad_fn=<SigmoidBackward0>)\n",
      "9 tensor([[0.0092]], grad_fn=<SigmoidBackward0>)\n",
      "2 tensor([[0.5839]], grad_fn=<SigmoidBackward0>)\n",
      "1 tensor([[0.8214]], grad_fn=<SigmoidBackward0>)\n",
      "3 tensor([[0.0186]], grad_fn=<SigmoidBackward0>)\n",
      "1 tensor([[0.8170]], grad_fn=<SigmoidBackward0>)\n",
      "4 tensor([[0.0051]], grad_fn=<SigmoidBackward0>)\n"
     ]
    }
   ],
   "source": [
    "# make predictions for the first 10 images in mnist_train\n",
    "# The first image was a 5 and the prediction is close to 0 (not being a small digit)\n",
    "for k, (image, label) in enumerate(mnist_train[:10]):\n",
    "    print(label, torch.sigmoid(pigeon(img_to_tensor(image))))"
   ]
  },
  {
   "cell_type": "markdown",
   "metadata": {
    "id": "Otc8_sYjOk1I"
   },
   "source": [
    "Not bad! We'll use the probability 50% as the cutoff for making a\n",
    "discrete prediction. Then, we can compute the accuracy on the 1000\n",
    "images we used to train the network."
   ]
  },
  {
   "cell_type": "markdown",
   "metadata": {
    "id": "-pluL_aN30CC"
   },
   "source": [
    "### Evaluating the Training Error"
   ]
  },
  {
   "cell_type": "code",
   "execution_count": 29,
   "metadata": {
    "colab": {
     "base_uri": "https://localhost:8080/"
    },
    "executionInfo": {
     "elapsed": 182,
     "status": "ok",
     "timestamp": 1701192296925,
     "user": {
      "displayName": "Samin Aref",
      "userId": "14087203804246952491"
     },
     "user_tz": 300
    },
    "id": "r-Qq5Bgh4Hx9",
    "outputId": "93f6e393-89e4-4c9e-cf45-d2522110de2c"
   },
   "outputs": [
    {
     "name": "stdout",
     "output_type": "stream",
     "text": [
      "Training Accuracy: 0.96\n"
     ]
    }
   ],
   "source": [
    "# computing the error and accuracy on the training set\n",
    "error = 0\n",
    "for (image, label) in mnist_train[:1000]:\n",
    "    prob = torch.sigmoid(pigeon(img_to_tensor(image)))\n",
    "    if (prob < 0.5 and label < 3) or (prob >= 0.5 and label >= 3):\n",
    "        error += 1\n",
    "# print(\"Training Error Rate:\", error/1000)\n",
    "print(\"Training Accuracy:\", 1 - error/1000)"
   ]
  },
  {
   "cell_type": "markdown",
   "metadata": {
    "id": "ZNozPD5XOk1L"
   },
   "source": [
    "The accuracy on those 1000 images is 96%, which is really good considering\n",
    "that we only showed the network each image only once.\n",
    "\n",
    "However, this accuracy is not representative of how well the network will perform,\n",
    "because the network was *trained* on the data. The network had a chance to\n",
    "see the actual answer, and learn from that answer. To get a better sense of\n",
    "the network's predictive accuracy, we should compute accuracy numbers on\n",
    "a **test set**: a set of images that were not seen in training."
   ]
  },
  {
   "cell_type": "markdown",
   "metadata": {
    "id": "VplQogR24Aue"
   },
   "source": [
    "### Evaluating the Test Error"
   ]
  },
  {
   "cell_type": "code",
   "execution_count": 30,
   "metadata": {
    "colab": {
     "base_uri": "https://localhost:8080/"
    },
    "executionInfo": {
     "elapsed": 343,
     "status": "ok",
     "timestamp": 1701192342516,
     "user": {
      "displayName": "Samin Aref",
      "userId": "14087203804246952491"
     },
     "user_tz": 300
    },
    "id": "blrK9sxS4IX5",
    "outputId": "b21a901c-d7f1-430e-8f97-1b8111f9a60a"
   },
   "outputs": [
    {
     "name": "stdout",
     "output_type": "stream",
     "text": [
      "Test Accuracy: 0.906\n"
     ]
    }
   ],
   "source": [
    "# computing the error and accuracy on a test set\n",
    "error = 0\n",
    "for (image, label) in mnist_train[1000:2000]:\n",
    "    prob = torch.sigmoid(pigeon(img_to_tensor(image)))\n",
    "    if (prob < 0.5 and label < 3) or (prob >= 0.5 and label >= 3):\n",
    "        error += 1\n",
    "# print(\"Test Error Rate:\", error/1000)\n",
    "print(\"Test Accuracy:\", 1 - error/1000)"
   ]
  },
  {
   "cell_type": "markdown",
   "metadata": {
    "id": "8jyyPknOZSUf"
   },
   "source": [
    "## 2.3 PyTorch multiclass classification Example\n",
    "\n",
    "see file \"PyTorch_Example_MNIST\" for another example on using PyTorch."
   ]
  }
 ],
 "metadata": {
  "colab": {
   "provenance": []
  },
  "kernelspec": {
   "display_name": "Python 3 (ipykernel)",
   "language": "python",
   "name": "python3"
  },
  "language_info": {
   "codemirror_mode": {
    "name": "ipython",
    "version": 3
   },
   "file_extension": ".py",
   "mimetype": "text/x-python",
   "name": "python",
   "nbconvert_exporter": "python",
   "pygments_lexer": "ipython3",
   "version": "3.12.7"
  }
 },
 "nbformat": 4,
 "nbformat_minor": 4
}
