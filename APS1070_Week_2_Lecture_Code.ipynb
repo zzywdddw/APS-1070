{
 "cells": [
  {
   "cell_type": "markdown",
   "metadata": {
    "id": "7xsy0XNjPwGH"
   },
   "source": [
    "# APS1070 Week 2 Lecture Code"
   ]
  },
  {
   "cell_type": "markdown",
   "metadata": {
    "id": "cPLWwcrP7hxy"
   },
   "source": [
    "## Slow and Fast Algorithms for the Fibonacci Sequence "
   ]
  },
  {
   "cell_type": "code",
   "execution_count": 1,
   "metadata": {
    "id": "Bta8d2wb7iVv"
   },
   "outputs": [],
   "source": [
    "# SLOWFIB \n",
    "\n",
    "def slowfib(n):\n",
    "  if n<0:\n",
    "    return(0)\n",
    "  elif n==0:\n",
    "    return(0)\n",
    "  elif n==1:\n",
    "    return(1)\n",
    "  else:\n",
    "    return(slowfib(n-1)+slowfib(n-2))"
   ]
  },
  {
   "cell_type": "code",
   "execution_count": 2,
   "metadata": {
    "id": "ZvHaGzEI_fdl"
   },
   "outputs": [],
   "source": [
    "# FASTFIB\n",
    "\n",
    "def fastfib(n):\n",
    "  if n<0:\n",
    "    return(0)\n",
    "  elif n==0:\n",
    "    return(0)\n",
    "  elif n==1:\n",
    "    return(1)\n",
    "  else:\n",
    "    a=1\n",
    "    b=0\n",
    "    i=2\n",
    "    for i in range(2,n+1):\n",
    "      t=a\n",
    "      a=a+b\n",
    "      b=t\n",
    "    return(a)"
   ]
  },
  {
   "cell_type": "code",
   "execution_count": 3,
   "metadata": {
    "colab": {
     "base_uri": "https://localhost:8080/"
    },
    "id": "UOeQ8glQA1Vg",
    "outputId": "3f662a13-d809-4b3a-b3a9-472f49965226"
   },
   "outputs": [
    {
     "name": "stdout",
     "output_type": "stream",
     "text": [
      "0:00:00.000024\n"
     ]
    }
   ],
   "source": [
    "from timeit import default_timer as timer\n",
    "from datetime import timedelta\n",
    "\n",
    "start = timer()\n",
    "# function call\n",
    "end = timer()\n",
    "\n",
    "print(timedelta(seconds=end-start))"
   ]
  },
  {
   "cell_type": "code",
   "execution_count": 4,
   "metadata": {
    "colab": {
     "base_uri": "https://localhost:8080/"
    },
    "id": "r8RhORWX8BKh",
    "outputId": "8f7f6a5e-caec-4895-d707-5783d3c546c5"
   },
   "outputs": [
    {
     "name": "stdout",
     "output_type": "stream",
     "text": [
      "0:00:00.004005\n"
     ]
    }
   ],
   "source": [
    "start = timer()\n",
    "slowfib(20)\n",
    "end = timer()\n",
    "\n",
    "print(timedelta(seconds=end-start))"
   ]
  },
  {
   "cell_type": "code",
   "execution_count": 5,
   "metadata": {
    "colab": {
     "base_uri": "https://localhost:8080/"
    },
    "id": "9BR4z6MAASDM",
    "outputId": "5bd7e35c-f67a-41ae-a75d-6830ba42169c"
   },
   "outputs": [
    {
     "name": "stdout",
     "output_type": "stream",
     "text": [
      "0:00:00.000061\n"
     ]
    }
   ],
   "source": [
    "start = timer()\n",
    "fastfib(20)\n",
    "end = timer()\n",
    "\n",
    "print(timedelta(seconds=end-start))"
   ]
  },
  {
   "cell_type": "markdown",
   "metadata": {
    "id": "8cTRi8-D8Cql"
   },
   "source": [
    "## Monte Carlo Simulation"
   ]
  },
  {
   "cell_type": "markdown",
   "metadata": {},
   "source": [
    "Example 1: dart landing in a circle\n",
    "\n",
    "Let us take a look at a simple Monte Carlo simulation for estimating the probability of a dart landing in a circle rather than the nonoverlapping portion of a square that is enclosing the circle."
   ]
  },
  {
   "cell_type": "code",
   "execution_count": 6,
   "metadata": {},
   "outputs": [],
   "source": [
    "# probability of dart landing in a circle\n",
    "import random\n",
    "import numpy\n",
    "\n",
    "def throwDarts(num_darts):\n",
    "  in_circle = 0\n",
    "  for darts in range(num_darts):\n",
    "    x = random.random()\n",
    "    y = random.random()\n",
    "    if (x*x + y*y)**0.5 <= 1.0:\n",
    "      in_circle +=1\n",
    "  return (in_circle/num_darts)"
   ]
  },
  {
   "cell_type": "code",
   "execution_count": 7,
   "metadata": {},
   "outputs": [
    {
     "name": "stdout",
     "output_type": "stream",
     "text": [
      "Estimate:  0.78543\n",
      "Truth:  0.7853981633974483\n"
     ]
    }
   ],
   "source": [
    "estimate = throwDarts(100000)\n",
    "truth = numpy.pi/4\n",
    "print('Estimate: ', estimate)\n",
    "print('Truth: ', truth)"
   ]
  },
  {
   "cell_type": "markdown",
   "metadata": {},
   "source": [
    "Example 2: tic-toc-toe\n",
    "\n",
    "Let us take a look at another slightly more difficult Monte Carlo simulation. Estimate the number of rounds we would play in a game given that we have a probability p of winning each round, and if we lose two consecutive rounds we lose the game."
   ]
  },
  {
   "cell_type": "code",
   "execution_count": 8,
   "metadata": {},
   "outputs": [],
   "source": [
    "import numpy as np\n",
    "def mc(n,p):\n",
    "    rounds= []\n",
    "    for x in range(n):\n",
    "        r,losses = 0,0\n",
    "        while losses != 2:\n",
    "            r+=1\n",
    "            if np.random.random() <= p:\n",
    "                losses = 0\n",
    "            else:\n",
    "                losses +=1\n",
    "        rounds.append(r)\n",
    "    return np.mean(rounds)"
   ]
  },
  {
   "cell_type": "code",
   "execution_count": 9,
   "metadata": {},
   "outputs": [
    {
     "data": {
      "text/plain": [
       "5.9999409"
      ]
     },
     "execution_count": 9,
     "metadata": {},
     "output_type": "execute_result"
    }
   ],
   "source": [
    "# run to find out expected number of rounds played\n",
    "mc(10**7,0.5)"
   ]
  },
  {
   "cell_type": "markdown",
   "metadata": {},
   "source": [
    "Example 3: Estimating an unknown parameter (Pi) with Sampling\n",
    "\n",
    "(i) Let us take a look at a simple Monte Carlo simulation for estimating the probability of a dart landing in a circle. The code can be change to estimate Pi through simulation."
   ]
  },
  {
   "cell_type": "code",
   "execution_count": 10,
   "metadata": {},
   "outputs": [],
   "source": [
    "def pi_estimator(num_darts):\n",
    "  in_circle = 0\n",
    "  for darts in range(num_darts):\n",
    "    x = random.random()\n",
    "    y = random.random()\n",
    "    if (x*x + y*y)**0.5 <= 1.0:\n",
    "      in_circle +=1\n",
    "  return (4*in_circle/num_darts) #multiplying 4 to the probability to find pi"
   ]
  },
  {
   "cell_type": "code",
   "execution_count": 11,
   "metadata": {},
   "outputs": [
    {
     "name": "stdout",
     "output_type": "stream",
     "text": [
      "Estimate:  3.15012\n",
      "Truth:  3.141592653589793\n"
     ]
    }
   ],
   "source": [
    "estimate = pi_estimator(100000)\n",
    "truth = np.pi\n",
    "print('Estimate: ', estimate)\n",
    "print('Truth: ', truth)"
   ]
  },
  {
   "cell_type": "markdown",
   "metadata": {},
   "source": [
    "The above estimate is a point estimate with a reliability of 0. We can now produce a range estimate (a confidence interval) based on a desirable reliability."
   ]
  },
  {
   "cell_type": "markdown",
   "metadata": {},
   "source": [
    "(ii) Generate a 95% confidence interval using 100 replications"
   ]
  },
  {
   "cell_type": "code",
   "execution_count": 12,
   "metadata": {},
   "outputs": [],
   "source": [
    "# obtain confidence interval by performing 100 replications\n",
    "def getEst(num_darts, num_replications):\n",
    "  estimates = []\n",
    "  for t in range(num_replications):\n",
    "    guess = pi_estimator(num_darts)\n",
    "    estimates.append(guess)\n",
    "  s_dev = np.std(np.array(estimates),ddof = 1)  #we use ddof=1 to get an unbiased estimate\n",
    "  s_err = s_dev/(len(estimates)**.5)\n",
    "  s_mean = sum(estimates)/len(estimates)\n",
    "  return (s_mean, s_err)"
   ]
  },
  {
   "cell_type": "code",
   "execution_count": 13,
   "metadata": {},
   "outputs": [
    {
     "name": "stdout",
     "output_type": "stream",
     "text": [
      "Sample Mean:  3.141468\n",
      "CI:  3.138502  to  3.144434\n",
      "True Mean:  3.141592653589793\n"
     ]
    }
   ],
   "source": [
    "# For the 95% confidence interval, we use [MEAN +- 1.96 STD]\n",
    "# 1.96 is the 97.5th percentile of the standard normal distribution.\n",
    "\n",
    "(s_mean, s_err) = getEst(10000, 100)\n",
    "z = 1.96\n",
    "upper_lim = s_mean+z*s_err\n",
    "lower_lim = s_mean-z*s_err\n",
    "print('Sample Mean: ', round(s_mean,6))\n",
    "print('CI: ', round(lower_lim,6), ' to ', round(upper_lim,6))\n",
    "print('True Mean: ', truth)"
   ]
  },
  {
   "cell_type": "markdown",
   "metadata": {},
   "source": [
    "(iii) Generate 200 confidence intervals to demonstrate what the 95% reliability means (from a frequentist perspective)."
   ]
  },
  {
   "cell_type": "code",
   "execution_count": 14,
   "metadata": {},
   "outputs": [
    {
     "name": "stdout",
     "output_type": "stream",
     "text": [
      "0.965 of the confidence intervals contained the true value of pi\n"
     ]
    }
   ],
   "source": [
    "# This step takes a couple of minutes\n",
    "\n",
    "z = 1.96 # For 95% confidence\n",
    "h_count = 0\n",
    "\n",
    "#repeat 200 times\n",
    "for t in range(200):\n",
    "  (s_mean, s_err) = getEst(10000, 100)\n",
    "  upper_lim = s_mean+z*s_err\n",
    "  lower_lim = s_mean-z*s_err\n",
    "  h_count += int(lower_lim < truth < upper_lim)\n",
    "\n",
    "print(h_count/(t+1),'of the confidence intervals contained the true value of pi')"
   ]
  },
  {
   "cell_type": "code",
   "execution_count": null,
   "metadata": {},
   "outputs": [],
   "source": []
  },
  {
   "cell_type": "code",
   "execution_count": null,
   "metadata": {},
   "outputs": [],
   "source": []
  }
 ],
 "metadata": {
  "colab": {
   "collapsed_sections": [],
   "name": "APS1070_Week_2_Lecture_Code.ipynb",
   "provenance": []
  },
  "kernelspec": {
   "display_name": "Python 3",
   "language": "python",
   "name": "python3"
  },
  "language_info": {
   "codemirror_mode": {
    "name": "ipython",
    "version": 3
   },
   "file_extension": ".py",
   "mimetype": "text/x-python",
   "name": "python",
   "nbconvert_exporter": "python",
   "pygments_lexer": "ipython3",
   "version": "3.6.8"
  }
 },
 "nbformat": 4,
 "nbformat_minor": 1
}
